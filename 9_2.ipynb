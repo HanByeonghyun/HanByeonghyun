{
  "nbformat": 4,
  "nbformat_minor": 0,
  "metadata": {
    "colab": {
      "provenance": [],
      "machine_shape": "hm",
      "gpuType": "T4",
      "authorship_tag": "ABX9TyMSQmAAdwsNNxtmSuFyz3/l",
      "include_colab_link": true
    },
    "kernelspec": {
      "name": "python3",
      "display_name": "Python 3"
    },
    "language_info": {
      "name": "python"
    },
    "accelerator": "GPU"
  },
  "cells": [
    {
      "cell_type": "markdown",
      "metadata": {
        "id": "view-in-github",
        "colab_type": "text"
      },
      "source": [
        "<a href=\"https://colab.research.google.com/github/HanByeonghyun/HanByeonghyun/blob/main/9_2.ipynb\" target=\"_parent\"><img src=\"https://colab.research.google.com/assets/colab-badge.svg\" alt=\"Open In Colab\"/></a>"
      ]
    },
    {
      "cell_type": "markdown",
      "source": [
        "#순환 신경망으로 IMDB 리뷰 분류하기"
      ],
      "metadata": {
        "id": "8ju_fb4t9wE9"
      }
    },
    {
      "cell_type": "code",
      "execution_count": 6,
      "metadata": {
        "id": "57kxcXTbp1SO"
      },
      "outputs": [],
      "source": [
        "import tensorflow as tf\n",
        "\n",
        "tf.keras.utils.set_random_seed(42)\n",
        "tf.config.experimental.enable_op_determinism()"
      ]
    },
    {
      "cell_type": "markdown",
      "source": [
        "##IMDB 리뷰 데이터셋"
      ],
      "metadata": {
        "id": "i7Am9cm2-GeK"
      }
    },
    {
      "cell_type": "code",
      "source": [
        "from tensorflow.keras.datasets import imdb\n",
        "\n",
        "(train_input, train_target), (test_input, test_target) = imdb.load_data(\n",
        "    num_words=300)"
      ],
      "metadata": {
        "colab": {
          "base_uri": "https://localhost:8080/"
        },
        "id": "MGxsuPwT-W57",
        "outputId": "6caea68e-f302-4a34-a715-69a7ebc7c672"
      },
      "execution_count": 7,
      "outputs": [
        {
          "output_type": "stream",
          "name": "stdout",
          "text": [
            "Downloading data from https://storage.googleapis.com/tensorflow/tf-keras-datasets/imdb.npz\n",
            "17464789/17464789 [==============================] - 2s 0us/step\n"
          ]
        }
      ]
    },
    {
      "cell_type": "code",
      "source": [
        "print(train_input.shape, test_input.shape)"
      ],
      "metadata": {
        "colab": {
          "base_uri": "https://localhost:8080/"
        },
        "id": "F85cDPVL-aYc",
        "outputId": "971a7c0a-5401-4e6f-df9c-13726b974215"
      },
      "execution_count": 8,
      "outputs": [
        {
          "output_type": "stream",
          "name": "stdout",
          "text": [
            "(25000,) (25000,)\n"
          ]
        }
      ]
    },
    {
      "cell_type": "code",
      "source": [
        "print(len(train_input[0]))"
      ],
      "metadata": {
        "colab": {
          "base_uri": "https://localhost:8080/"
        },
        "id": "0Y3ItcdG-bp7",
        "outputId": "232d36cf-1d49-4cbf-bf9c-829baf3d27cf"
      },
      "execution_count": 9,
      "outputs": [
        {
          "output_type": "stream",
          "name": "stdout",
          "text": [
            "218\n"
          ]
        }
      ]
    },
    {
      "cell_type": "code",
      "source": [
        "print(len(train_input[1]))"
      ],
      "metadata": {
        "colab": {
          "base_uri": "https://localhost:8080/"
        },
        "id": "NAY3EtHM-eVF",
        "outputId": "afedee83-ab80-4560-b943-2a0fa15149cf"
      },
      "execution_count": 10,
      "outputs": [
        {
          "output_type": "stream",
          "name": "stdout",
          "text": [
            "189\n"
          ]
        }
      ]
    },
    {
      "cell_type": "code",
      "source": [
        "print(train_input[0])"
      ],
      "metadata": {
        "colab": {
          "base_uri": "https://localhost:8080/"
        },
        "id": "ExD7ia7g-fFM",
        "outputId": "f9654021-8d18-4632-a9f3-fdb80c71d4ad"
      },
      "execution_count": 7,
      "outputs": [
        {
          "output_type": "stream",
          "name": "stdout",
          "text": [
            "[1, 14, 22, 16, 43, 2, 2, 2, 2, 65, 2, 2, 66, 2, 4, 173, 36, 256, 5, 25, 100, 43, 2, 112, 50, 2, 2, 9, 35, 2, 284, 5, 150, 4, 172, 112, 167, 2, 2, 2, 39, 4, 172, 2, 2, 17, 2, 38, 13, 2, 4, 192, 50, 16, 6, 147, 2, 19, 14, 22, 4, 2, 2, 2, 4, 22, 71, 87, 12, 16, 43, 2, 38, 76, 15, 13, 2, 4, 22, 17, 2, 17, 12, 16, 2, 18, 2, 5, 62, 2, 12, 8, 2, 8, 106, 5, 4, 2, 2, 16, 2, 66, 2, 33, 4, 130, 12, 16, 38, 2, 5, 25, 124, 51, 36, 135, 48, 25, 2, 33, 6, 22, 12, 215, 28, 77, 52, 5, 14, 2, 16, 82, 2, 8, 4, 107, 117, 2, 15, 256, 4, 2, 7, 2, 5, 2, 36, 71, 43, 2, 2, 26, 2, 2, 46, 7, 4, 2, 2, 13, 104, 88, 4, 2, 15, 297, 98, 32, 2, 56, 26, 141, 6, 194, 2, 18, 4, 226, 22, 21, 134, 2, 26, 2, 5, 144, 30, 2, 18, 51, 36, 28, 224, 92, 25, 104, 4, 226, 65, 16, 38, 2, 88, 12, 16, 283, 5, 16, 2, 113, 103, 32, 15, 16, 2, 19, 178, 32]\n"
          ]
        }
      ]
    },
    {
      "cell_type": "code",
      "source": [
        "print(train_target[:20])"
      ],
      "metadata": {
        "colab": {
          "base_uri": "https://localhost:8080/"
        },
        "id": "WNiIa5v5-kF3",
        "outputId": "e8c1bb61-0f9a-490d-c7e3-ed0bd5b1be29"
      },
      "execution_count": 11,
      "outputs": [
        {
          "output_type": "stream",
          "name": "stdout",
          "text": [
            "[1 0 0 1 0 0 1 0 1 0 1 0 0 0 0 0 1 1 0 1]\n"
          ]
        }
      ]
    },
    {
      "cell_type": "code",
      "source": [
        "from sklearn.model_selection import train_test_split\n",
        "\n",
        "train_input, val_input, train_target, val_target = train_test_split(\n",
        "    train_input, train_target, test_size=0.2, random_state=42)"
      ],
      "metadata": {
        "id": "w7hcbC8J-m2M"
      },
      "execution_count": 12,
      "outputs": []
    },
    {
      "cell_type": "code",
      "source": [
        "import numpy as np\n",
        "\n",
        "lengths = np.array([len(x) for x in train_input])\n",
        "print(np.mean(lengths), np.median(lengths))"
      ],
      "metadata": {
        "colab": {
          "base_uri": "https://localhost:8080/"
        },
        "id": "wNRZ6B9p-ox7",
        "outputId": "7d38d939-ba04-4ec1-8430-b9527d479ef8"
      },
      "execution_count": 13,
      "outputs": [
        {
          "output_type": "stream",
          "name": "stdout",
          "text": [
            "239.00925 178.0\n"
          ]
        }
      ]
    },
    {
      "cell_type": "code",
      "source": [
        "import matplotlib.pyplot as plt\n",
        "\n",
        "plt.hist(lengths)\n",
        "plt.xlabel('length')\n",
        "plt.ylabel('frequency')\n",
        "plt.show()"
      ],
      "metadata": {
        "colab": {
          "base_uri": "https://localhost:8080/",
          "height": 449
        },
        "id": "issHTz0p-qp7",
        "outputId": "a076dcb9-a936-41ee-8753-54d879231a5b"
      },
      "execution_count": 14,
      "outputs": [
        {
          "output_type": "display_data",
          "data": {
            "text/plain": [
              "<Figure size 640x480 with 1 Axes>"
            ],
            "image/png": "[encoded data removed]"
          },
          "metadata": {}
        }
      ]
    },
    {
      "cell_type": "code",
      "source": [
        "from tensorflow.keras.preprocessing.sequence import pad_sequences\n",
        "\n",
        "train_seq = pad_sequences(train_input, maxlen=100)\n",
        "print(train_seq.shape)"
      ],
      "metadata": {
        "colab": {
          "base_uri": "https://localhost:8080/"
        },
        "id": "f0olqrew-rpF",
        "outputId": "2f6756b4-04d1-4c63-ec59-710cf4d62beb"
      },
      "execution_count": 15,
      "outputs": [
        {
          "output_type": "stream",
          "name": "stdout",
          "text": [
            "(20000, 100)\n"
          ]
        }
      ]
    },
    {
      "cell_type": "code",
      "source": [
        "print(train_seq[0])"
      ],
      "metadata": {
        "colab": {
          "base_uri": "https://localhost:8080/"
        },
        "id": "m_MAGcLC-ztA",
        "outputId": "3e188585-2a97-49d2-af4a-8aa6efceca74"
      },
      "execution_count": 16,
      "outputs": [
        {
          "output_type": "stream",
          "name": "stdout",
          "text": [
            "[ 10   4  20   9   2   2   2   5  45   6   2   2  33 269   8   2 142   2\n",
            "   5   2  17  73  17 204   5   2  19  55   2   2  92  66 104  14  20  93\n",
            "  76   2 151  33   4  58  12 188   2 151  12 215  69 224 142  73 237   6\n",
            "   2   7   2   2 188   2 103  14  31  10  10   2   7   2   5   2  80  91\n",
            "   2  30   2  34  14  20 151  50  26 131  49   2  84  46  50  37  80  79\n",
            "   6   2  46   7  14  20  10  10   2 158]\n"
          ]
        }
      ]
    },
    {
      "cell_type": "code",
      "source": [
        "print(train_input[0][-10:])"
      ],
      "metadata": {
        "colab": {
          "base_uri": "https://localhost:8080/"
        },
        "id": "FcMYLQ7s-0c9",
        "outputId": "50a4d602-00ae-4cb3-e883-95ae306a6fd3"
      },
      "execution_count": 17,
      "outputs": [
        {
          "output_type": "stream",
          "name": "stdout",
          "text": [
            "[6, 2, 46, 7, 14, 20, 10, 10, 2, 158]\n"
          ]
        }
      ]
    },
    {
      "cell_type": "code",
      "source": [
        "print(train_seq[5])"
      ],
      "metadata": {
        "colab": {
          "base_uri": "https://localhost:8080/"
        },
        "id": "XLKEH_ys-1YG",
        "outputId": "a200eba7-f5f1-4740-d510-c137b15ca6c9"
      },
      "execution_count": 18,
      "outputs": [
        {
          "output_type": "stream",
          "name": "stdout",
          "text": [
            "[  0   0   0   0   1   2 195  19  49   2   2 190   4   2   2   2 183  10\n",
            "  10  13  82  79   4   2  36  71 269   8   2  25  19  49   7   4   2   2\n",
            "   2   2   2  10  10  48  25  40   2  11   2   2  40   2   2   5   4   2\n",
            "   2  95  14 238  56 129   2  10  10  21   2  94   2   2   2   2  11 190\n",
            "  24   2   2   7  94 205   2  10  10  87   2  34  49   2   7   2   2   2\n",
            "   2   2 290   2  46  48  64  18   4   2]\n"
          ]
        }
      ]
    },
    {
      "cell_type": "code",
      "source": [
        "val_seq = pad_sequences(val_input, maxlen=100)"
      ],
      "metadata": {
        "id": "_YZk0XVw-4PE"
      },
      "execution_count": 19,
      "outputs": []
    },
    {
      "cell_type": "markdown",
      "source": [
        "##순환 신경망 만들기"
      ],
      "metadata": {
        "id": "8n8R3F0Q-6Lk"
      }
    },
    {
      "cell_type": "code",
      "source": [
        "from tensorflow import keras\n",
        "\n",
        "model = keras.Sequential()\n",
        "\n",
        "model.add(keras.layers.SimpleRNN(8, input_shape=(100, 300)))\n",
        "model.add(keras.layers.Dense(1, activation='sigmoid'))\n",
        "\n",
        "train_oh = keras.utils.to_categorical(train_seq)\n",
        "\n",
        "print(train_oh.shape)"
      ],
      "metadata": {
        "colab": {
          "base_uri": "https://localhost:8080/"
        },
        "id": "4U3PVnKl-4s5",
        "outputId": "6ece7ad9-3d41-4272-f6cc-e3d2c55fe9b3"
      },
      "execution_count": 17,
      "outputs": [
        {
          "output_type": "stream",
          "name": "stdout",
          "text": [
            "(20000, 100, 300)\n"
          ]
        }
      ]
    },
    {
      "cell_type": "code",
      "source": [
        "print(train_oh[0][0][:12])"
      ],
      "metadata": {
        "colab": {
          "base_uri": "https://localhost:8080/"
        },
        "id": "LRGEVRIr_AGk",
        "outputId": "10e7060c-14d6-4bbb-bb04-b776c79feeb4"
      },
      "execution_count": 18,
      "outputs": [
        {
          "output_type": "stream",
          "name": "stdout",
          "text": [
            "[0. 0. 0. 0. 0. 0. 0. 0. 0. 0. 1. 0.]\n"
          ]
        }
      ]
    },
    {
      "cell_type": "code",
      "source": [
        "val_oh = keras.utils.to_categorical(val_seq)\n",
        "model.summary()"
      ],
      "metadata": {
        "colab": {
          "base_uri": "https://localhost:8080/"
        },
        "id": "qa_twPo6_BbJ",
        "outputId": "4518392d-5fc5-4070-897b-33c74c35a5c0"
      },
      "execution_count": 19,
      "outputs": [
        {
          "output_type": "stream",
          "name": "stdout",
          "text": [
            "Model: \"sequential\"\n",
            "_________________________________________________________________\n",
            " Layer (type)                Output Shape              Param #   \n",
            "=================================================================\n",
            " simple_rnn (SimpleRNN)      (None, 8)                 2472      \n",
            "                                                                 \n",
            " dense (Dense)               (None, 1)                 9         \n",
            "                                                                 \n",
            "=================================================================\n",
            "Total params: 2481 (9.69 KB)\n",
            "Trainable params: 2481 (9.69 KB)\n",
            "Non-trainable params: 0 (0.00 Byte)\n",
            "_________________________________________________________________\n"
          ]
        }
      ]
    },
    {
      "cell_type": "markdown",
      "source": [
        "##순환 신경망 훈련하기"
      ],
      "metadata": {
        "id": "ci7h6yti_EXi"
      }
    },
    {
      "cell_type": "code",
      "source": [
        "rmsprop = keras.optimizers.RMSprop(learning_rate=1e-4)\n",
        "model.compile(optimizer=rmsprop, loss='binary_crossentropy',\n",
        "              metrics=['accuracy'])\n",
        "\n",
        "checkpoint_cb = keras.callbacks.ModelCheckpoint('best-simplernn-model.h5',\n",
        "                                                save_best_only=True)\n",
        "early_stopping_cb = keras.callbacks.EarlyStopping(patience=3,\n",
        "                                                  restore_best_weights=True)\n",
        "\n",
        "history = model.fit(train_oh, train_target, epochs=100, batch_size=64,\n",
        "                    validation_data=(val_oh, val_target),\n",
        "                    callbacks=[checkpoint_cb, early_stopping_cb])"
      ],
      "metadata": {
        "colab": {
          "base_uri": "https://localhost:8080/"
        },
        "id": "oG0OfZgu_DNJ",
        "outputId": "faec0abd-3e1d-4949-c943-13ab5d9c6e20"
      },
      "execution_count": 20,
      "outputs": [
        {
          "output_type": "stream",
          "name": "stdout",
          "text": [
            "Epoch 1/100\n",
            "313/313 [==============================] - 36s 85ms/step - loss: 0.7003 - accuracy: 0.5002 - val_loss: 0.6970 - val_accuracy: 0.5058\n",
            "Epoch 2/100\n",
            "  2/313 [..............................] - ETA: 22s - loss: 0.7103 - accuracy: 0.5078"
          ]
        },
        {
          "output_type": "stream",
          "name": "stderr",
          "text": [
            "/usr/local/lib/python3.10/dist-packages/keras/src/engine/training.py:3079: UserWarning: You are saving your model as an HDF5 file via `model.save()`. This file format is considered legacy. We recommend using instead the native Keras format, e.g. `model.save('my_model.keras')`.\n",
            "  saving_api.save_model(\n"
          ]
        },
        {
          "output_type": "stream",
          "name": "stdout",
          "text": [
            "313/313 [==============================] - 27s 86ms/step - loss: 0.6956 - accuracy: 0.5123 - val_loss: 0.6946 - val_accuracy: 0.5124\n",
            "Epoch 3/100\n",
            "313/313 [==============================] - 25s 79ms/step - loss: 0.6917 - accuracy: 0.5282 - val_loss: 0.6909 - val_accuracy: 0.5318\n",
            "Epoch 4/100\n",
            "313/313 [==============================] - 23s 75ms/step - loss: 0.6844 - accuracy: 0.5549 - val_loss: 0.6833 - val_accuracy: 0.5690\n",
            "Epoch 5/100\n",
            "313/313 [==============================] - 25s 79ms/step - loss: 0.6784 - accuracy: 0.5778 - val_loss: 0.6797 - val_accuracy: 0.5770\n",
            "Epoch 6/100\n",
            "313/313 [==============================] - 25s 80ms/step - loss: 0.6734 - accuracy: 0.5890 - val_loss: 0.6743 - val_accuracy: 0.5890\n",
            "Epoch 7/100\n",
            "313/313 [==============================] - 25s 80ms/step - loss: 0.6676 - accuracy: 0.6068 - val_loss: 0.6695 - val_accuracy: 0.5982\n",
            "Epoch 8/100\n",
            "313/313 [==============================] - 23s 74ms/step - loss: 0.6614 - accuracy: 0.6197 - val_loss: 0.6628 - val_accuracy: 0.6112\n",
            "Epoch 9/100\n",
            "313/313 [==============================] - 25s 79ms/step - loss: 0.6539 - accuracy: 0.6309 - val_loss: 0.6567 - val_accuracy: 0.6228\n",
            "Epoch 10/100\n",
            "313/313 [==============================] - 25s 80ms/step - loss: 0.6461 - accuracy: 0.6445 - val_loss: 0.6481 - val_accuracy: 0.6366\n",
            "Epoch 11/100\n",
            "313/313 [==============================] - 25s 80ms/step - loss: 0.6377 - accuracy: 0.6564 - val_loss: 0.6409 - val_accuracy: 0.6486\n",
            "Epoch 12/100\n",
            "313/313 [==============================] - 23s 74ms/step - loss: 0.6285 - accuracy: 0.6684 - val_loss: 0.6302 - val_accuracy: 0.6642\n",
            "Epoch 13/100\n",
            "313/313 [==============================] - 25s 79ms/step - loss: 0.6191 - accuracy: 0.6804 - val_loss: 0.6211 - val_accuracy: 0.6740\n",
            "Epoch 14/100\n",
            "313/313 [==============================] - 25s 79ms/step - loss: 0.6092 - accuracy: 0.6884 - val_loss: 0.6122 - val_accuracy: 0.6824\n",
            "Epoch 15/100\n",
            "313/313 [==============================] - 25s 79ms/step - loss: 0.5992 - accuracy: 0.6998 - val_loss: 0.6032 - val_accuracy: 0.6896\n",
            "Epoch 16/100\n",
            "313/313 [==============================] - 23s 74ms/step - loss: 0.5900 - accuracy: 0.7071 - val_loss: 0.5935 - val_accuracy: 0.6972\n",
            "Epoch 17/100\n",
            "313/313 [==============================] - 25s 79ms/step - loss: 0.5816 - accuracy: 0.7142 - val_loss: 0.5855 - val_accuracy: 0.7028\n",
            "Epoch 18/100\n",
            "313/313 [==============================] - 24s 78ms/step - loss: 0.5731 - accuracy: 0.7209 - val_loss: 0.5785 - val_accuracy: 0.7094\n",
            "Epoch 19/100\n",
            "313/313 [==============================] - 23s 72ms/step - loss: 0.5648 - accuracy: 0.7260 - val_loss: 0.5691 - val_accuracy: 0.7174\n",
            "Epoch 20/100\n",
            "313/313 [==============================] - 25s 80ms/step - loss: 0.5569 - accuracy: 0.7308 - val_loss: 0.5620 - val_accuracy: 0.7214\n",
            "Epoch 21/100\n",
            "313/313 [==============================] - 25s 79ms/step - loss: 0.5503 - accuracy: 0.7351 - val_loss: 0.5560 - val_accuracy: 0.7234\n",
            "Epoch 22/100\n",
            "313/313 [==============================] - 24s 78ms/step - loss: 0.5443 - accuracy: 0.7391 - val_loss: 0.5515 - val_accuracy: 0.7266\n",
            "Epoch 23/100\n",
            "313/313 [==============================] - 23s 74ms/step - loss: 0.5381 - accuracy: 0.7427 - val_loss: 0.5473 - val_accuracy: 0.7300\n",
            "Epoch 24/100\n",
            "313/313 [==============================] - 24s 78ms/step - loss: 0.5339 - accuracy: 0.7456 - val_loss: 0.5423 - val_accuracy: 0.7344\n",
            "Epoch 25/100\n",
            "313/313 [==============================] - 24s 78ms/step - loss: 0.5297 - accuracy: 0.7477 - val_loss: 0.5385 - val_accuracy: 0.7342\n",
            "Epoch 26/100\n",
            "313/313 [==============================] - 23s 73ms/step - loss: 0.5257 - accuracy: 0.7510 - val_loss: 0.5360 - val_accuracy: 0.7376\n",
            "Epoch 27/100\n",
            "313/313 [==============================] - 25s 79ms/step - loss: 0.5223 - accuracy: 0.7534 - val_loss: 0.5330 - val_accuracy: 0.7386\n",
            "Epoch 28/100\n",
            "313/313 [==============================] - 24s 76ms/step - loss: 0.5192 - accuracy: 0.7556 - val_loss: 0.5315 - val_accuracy: 0.7352\n",
            "Epoch 29/100\n",
            "313/313 [==============================] - 22s 71ms/step - loss: 0.5159 - accuracy: 0.7567 - val_loss: 0.5394 - val_accuracy: 0.7338\n",
            "Epoch 30/100\n",
            "313/313 [==============================] - 24s 78ms/step - loss: 0.5133 - accuracy: 0.7573 - val_loss: 0.5275 - val_accuracy: 0.7386\n",
            "Epoch 31/100\n",
            "313/313 [==============================] - 24s 77ms/step - loss: 0.5116 - accuracy: 0.7596 - val_loss: 0.5254 - val_accuracy: 0.7428\n",
            "Epoch 32/100\n",
            "313/313 [==============================] - 22s 72ms/step - loss: 0.5090 - accuracy: 0.7609 - val_loss: 0.5244 - val_accuracy: 0.7450\n",
            "Epoch 33/100\n",
            "313/313 [==============================] - 24s 77ms/step - loss: 0.5071 - accuracy: 0.7610 - val_loss: 0.5243 - val_accuracy: 0.7438\n",
            "Epoch 34/100\n",
            "313/313 [==============================] - 24s 77ms/step - loss: 0.5047 - accuracy: 0.7625 - val_loss: 0.5242 - val_accuracy: 0.7446\n",
            "Epoch 35/100\n",
            "313/313 [==============================] - 22s 71ms/step - loss: 0.5036 - accuracy: 0.7634 - val_loss: 0.5218 - val_accuracy: 0.7460\n",
            "Epoch 36/100\n",
            "313/313 [==============================] - 23s 75ms/step - loss: 0.5022 - accuracy: 0.7638 - val_loss: 0.5202 - val_accuracy: 0.7462\n",
            "Epoch 37/100\n",
            "313/313 [==============================] - 24s 77ms/step - loss: 0.5006 - accuracy: 0.7654 - val_loss: 0.5208 - val_accuracy: 0.7482\n",
            "Epoch 38/100\n",
            "313/313 [==============================] - 22s 71ms/step - loss: 0.4992 - accuracy: 0.7649 - val_loss: 0.5210 - val_accuracy: 0.7468\n",
            "Epoch 39/100\n",
            "313/313 [==============================] - 24s 76ms/step - loss: 0.4982 - accuracy: 0.7659 - val_loss: 0.5201 - val_accuracy: 0.7442\n",
            "Epoch 40/100\n",
            "313/313 [==============================] - 24s 76ms/step - loss: 0.4959 - accuracy: 0.7671 - val_loss: 0.5180 - val_accuracy: 0.7446\n",
            "Epoch 41/100\n",
            "313/313 [==============================] - 22s 70ms/step - loss: 0.4950 - accuracy: 0.7684 - val_loss: 0.5162 - val_accuracy: 0.7470\n",
            "Epoch 42/100\n",
            "313/313 [==============================] - 24s 77ms/step - loss: 0.4942 - accuracy: 0.7686 - val_loss: 0.5164 - val_accuracy: 0.7480\n",
            "Epoch 43/100\n",
            "313/313 [==============================] - 24s 77ms/step - loss: 0.4931 - accuracy: 0.7696 - val_loss: 0.5152 - val_accuracy: 0.7484\n",
            "Epoch 44/100\n",
            "313/313 [==============================] - 22s 71ms/step - loss: 0.4919 - accuracy: 0.7692 - val_loss: 0.5139 - val_accuracy: 0.7460\n",
            "Epoch 45/100\n",
            "313/313 [==============================] - 24s 77ms/step - loss: 0.4916 - accuracy: 0.7699 - val_loss: 0.5148 - val_accuracy: 0.7478\n",
            "Epoch 46/100\n",
            "313/313 [==============================] - 24s 77ms/step - loss: 0.4902 - accuracy: 0.7703 - val_loss: 0.5157 - val_accuracy: 0.7458\n",
            "Epoch 47/100\n",
            "313/313 [==============================] - 22s 71ms/step - loss: 0.4892 - accuracy: 0.7714 - val_loss: 0.5147 - val_accuracy: 0.7496\n"
          ]
        }
      ]
    },
    {
      "cell_type": "code",
      "source": [
        "plt.plot(history.history['loss'])\n",
        "plt.plot(history.history['val_loss'])\n",
        "plt.xlabel('epoch')\n",
        "plt.ylabel('loss')\n",
        "plt.legend(['train', 'val'])\n",
        "plt.show()"
      ],
      "metadata": {
        "colab": {
          "base_uri": "https://localhost:8080/",
          "height": 449
        },
        "id": "dGGUqn2e_G1X",
        "outputId": "fd629d12-3392-4516-e4b1-8108f36e72b2"
      },
      "execution_count": 21,
      "outputs": [
        {
          "output_type": "display_data",
          "data": {
            "text/plain": [
              "<Figure size 640x480 with 1 Axes>"
            ],
            "image/png": "[encoded data removed]"
          },
          "metadata": {}
        }
      ]
    },
    {
      "cell_type": "markdown",
      "source": [
        "##단어 임베딩 사용하기"
      ],
      "metadata": {
        "id": "h6rCASsW_J6s"
      }
    },
    {
      "cell_type": "code",
      "source": [
        "from tensorflow import keras\n",
        "model2 = keras.Sequential()\n",
        "\n",
        "model2.add(keras.layers.Embedding(300, 16, input_length=100))\n",
        "model2.add(keras.layers.SimpleRNN(8))\n",
        "model2.add(keras.layers.Dense(1, activation='sigmoid'))\n",
        "\n",
        "model2.summary()"
      ],
      "metadata": {
        "colab": {
          "base_uri": "https://localhost:8080/"
        },
        "id": "QecGxW1-_I3O",
        "outputId": "01dfff39-d339-44c1-e121-206c7c4443f2"
      },
      "execution_count": 3,
      "outputs": [
        {
          "output_type": "stream",
          "name": "stdout",
          "text": [
            "Model: \"sequential\"\n",
            "_________________________________________________________________\n",
            " Layer (type)                Output Shape              Param #   \n",
            "=================================================================\n",
            " embedding (Embedding)       (None, 100, 16)           4800      \n",
            "                                                                 \n",
            " simple_rnn (SimpleRNN)      (None, 8)                 200       \n",
            "                                                                 \n",
            " dense (Dense)               (None, 1)                 9         \n",
            "                                                                 \n",
            "=================================================================\n",
            "Total params: 5009 (19.57 KB)\n",
            "Trainable params: 5009 (19.57 KB)\n",
            "Non-trainable params: 0 (0.00 Byte)\n",
            "_________________________________________________________________\n"
          ]
        }
      ]
    },
    {
      "cell_type": "code",
      "source": [
        "rmsprop = keras.optimizers.RMSprop(learning_rate=1e-4)\n",
        "model2.compile(optimizer=rmsprop, loss='binary_crossentropy',\n",
        "               metrics=['accuracy'])\n",
        "\n",
        "checkpoint_cb = keras.callbacks.ModelCheckpoint('best-embedding-model.h5',\n",
        "                                                save_best_only=True)\n",
        "early_stopping_cb = keras.callbacks.EarlyStopping(patience=3,\n",
        "                                                  restore_best_weights=True)\n",
        "\n",
        "history = model2.fit(train_seq, train_target, epochs=100, batch_size=64,\n",
        "                     validation_data=(val_seq, val_target),\n",
        "                     callbacks=[checkpoint_cb, early_stopping_cb])"
      ],
      "metadata": {
        "colab": {
          "base_uri": "https://localhost:8080/"
        },
        "id": "kR8SzmpJ_WW7",
        "outputId": "eb34c53b-b8cd-45d6-c42b-9c431007e817"
      },
      "execution_count": 20,
      "outputs": [
        {
          "output_type": "stream",
          "name": "stdout",
          "text": [
            "Epoch 1/100\n",
            "313/313 [==============================] - 31s 82ms/step - loss: 0.6612 - accuracy: 0.6095 - val_loss: 0.6346 - val_accuracy: 0.6564\n",
            "Epoch 2/100\n",
            "  2/313 [..............................] - ETA: 20s - loss: 0.6346 - accuracy: 0.6562"
          ]
        },
        {
          "output_type": "stream",
          "name": "stderr",
          "text": [
            "/usr/local/lib/python3.10/dist-packages/keras/src/engine/training.py:3079: UserWarning: You are saving your model as an HDF5 file via `model.save()`. This file format is considered legacy. We recommend using instead the native Keras format, e.g. `model.save('my_model.keras')`.\n",
            "  saving_api.save_model(\n"
          ]
        },
        {
          "output_type": "stream",
          "name": "stdout",
          "text": [
            "313/313 [==============================] - 22s 69ms/step - loss: 0.6182 - accuracy: 0.6839 - val_loss: 0.6067 - val_accuracy: 0.7102\n",
            "Epoch 3/100\n",
            "313/313 [==============================] - 21s 68ms/step - loss: 0.5983 - accuracy: 0.7111 - val_loss: 0.5898 - val_accuracy: 0.7200\n",
            "Epoch 4/100\n",
            "313/313 [==============================] - 22s 69ms/step - loss: 0.5837 - accuracy: 0.7255 - val_loss: 0.5797 - val_accuracy: 0.7258\n",
            "Epoch 5/100\n",
            "313/313 [==============================] - 21s 68ms/step - loss: 0.5718 - accuracy: 0.7348 - val_loss: 0.5702 - val_accuracy: 0.7316\n",
            "Epoch 6/100\n",
            "313/313 [==============================] - 21s 67ms/step - loss: 0.5623 - accuracy: 0.7419 - val_loss: 0.5614 - val_accuracy: 0.7370\n",
            "Epoch 7/100\n",
            "313/313 [==============================] - 21s 69ms/step - loss: 0.5541 - accuracy: 0.7454 - val_loss: 0.5533 - val_accuracy: 0.7410\n",
            "Epoch 8/100\n",
            "313/313 [==============================] - 21s 68ms/step - loss: 0.5465 - accuracy: 0.7495 - val_loss: 0.5485 - val_accuracy: 0.7406\n",
            "Epoch 9/100\n",
            "313/313 [==============================] - 21s 67ms/step - loss: 0.5398 - accuracy: 0.7530 - val_loss: 0.5428 - val_accuracy: 0.7434\n",
            "Epoch 10/100\n",
            "313/313 [==============================] - 21s 68ms/step - loss: 0.5336 - accuracy: 0.7566 - val_loss: 0.5382 - val_accuracy: 0.7464\n",
            "Epoch 11/100\n",
            "313/313 [==============================] - 22s 69ms/step - loss: 0.5283 - accuracy: 0.7584 - val_loss: 0.5361 - val_accuracy: 0.7436\n",
            "Epoch 12/100\n",
            "313/313 [==============================] - 21s 68ms/step - loss: 0.5230 - accuracy: 0.7609 - val_loss: 0.5339 - val_accuracy: 0.7404\n",
            "Epoch 13/100\n",
            "313/313 [==============================] - 21s 68ms/step - loss: 0.5192 - accuracy: 0.7624 - val_loss: 0.5300 - val_accuracy: 0.7474\n",
            "Epoch 14/100\n",
            "313/313 [==============================] - 21s 67ms/step - loss: 0.5146 - accuracy: 0.7664 - val_loss: 0.5273 - val_accuracy: 0.7468\n",
            "Epoch 15/100\n",
            "313/313 [==============================] - 21s 68ms/step - loss: 0.5108 - accuracy: 0.7677 - val_loss: 0.5357 - val_accuracy: 0.7388\n",
            "Epoch 16/100\n",
            "313/313 [==============================] - 21s 68ms/step - loss: 0.5077 - accuracy: 0.7669 - val_loss: 0.5271 - val_accuracy: 0.7466\n",
            "Epoch 17/100\n",
            "313/313 [==============================] - 21s 69ms/step - loss: 0.5048 - accuracy: 0.7699 - val_loss: 0.5238 - val_accuracy: 0.7464\n",
            "Epoch 18/100\n",
            "313/313 [==============================] - 21s 66ms/step - loss: 0.5021 - accuracy: 0.7700 - val_loss: 0.5247 - val_accuracy: 0.7442\n",
            "Epoch 19/100\n",
            "313/313 [==============================] - 21s 69ms/step - loss: 0.4998 - accuracy: 0.7710 - val_loss: 0.5212 - val_accuracy: 0.7482\n",
            "Epoch 20/100\n",
            "313/313 [==============================] - 21s 68ms/step - loss: 0.4969 - accuracy: 0.7719 - val_loss: 0.5210 - val_accuracy: 0.7498\n",
            "Epoch 21/100\n",
            "313/313 [==============================] - 21s 67ms/step - loss: 0.4952 - accuracy: 0.7739 - val_loss: 0.5183 - val_accuracy: 0.7504\n",
            "Epoch 22/100\n",
            "313/313 [==============================] - 21s 68ms/step - loss: 0.4930 - accuracy: 0.7756 - val_loss: 0.5198 - val_accuracy: 0.7496\n",
            "Epoch 23/100\n",
            "313/313 [==============================] - 21s 67ms/step - loss: 0.4910 - accuracy: 0.7772 - val_loss: 0.5184 - val_accuracy: 0.7504\n",
            "Epoch 24/100\n",
            "313/313 [==============================] - 21s 67ms/step - loss: 0.4894 - accuracy: 0.7766 - val_loss: 0.5182 - val_accuracy: 0.7504\n",
            "Epoch 25/100\n",
            "313/313 [==============================] - 21s 67ms/step - loss: 0.4880 - accuracy: 0.7789 - val_loss: 0.5219 - val_accuracy: 0.7458\n",
            "Epoch 26/100\n",
            "313/313 [==============================] - 21s 68ms/step - loss: 0.4863 - accuracy: 0.7773 - val_loss: 0.5241 - val_accuracy: 0.7434\n",
            "Epoch 27/100\n",
            "313/313 [==============================] - 21s 68ms/step - loss: 0.4853 - accuracy: 0.7782 - val_loss: 0.5185 - val_accuracy: 0.7504\n"
          ]
        }
      ]
    },
    {
      "cell_type": "code",
      "source": [
        "plt.plot(history.history['loss'])\n",
        "plt.plot(history.history['val_loss'])\n",
        "plt.xlabel('epoch')\n",
        "plt.ylabel('loss')\n",
        "plt.legend(['train', 'val'])\n",
        "plt.show()"
      ],
      "metadata": {
        "colab": {
          "base_uri": "https://localhost:8080/",
          "height": 449
        },
        "id": "rHJw1bGD_YTY",
        "outputId": "6545e3a3-9753-4248-f6fe-5a2c2b961893"
      },
      "execution_count": 21,
      "outputs": [
        {
          "output_type": "display_data",
          "data": {
            "text/plain": [
              "<Figure size 640x480 with 1 Axes>"
            ],
            "image/png": "[encoded data removed]"
          },
          "metadata": {}
        }
      ]
    }
  ]
}